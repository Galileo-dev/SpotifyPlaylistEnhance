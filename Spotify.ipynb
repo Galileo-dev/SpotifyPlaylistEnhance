{
 "cells": [
  {
   "cell_type": "code",
   "execution_count": null,
   "metadata": {},
   "outputs": [],
   "source": [
    "%pip install spotipy"
   ]
  },
  {
   "cell_type": "code",
   "execution_count": null,
   "metadata": {},
   "outputs": [],
   "source": [
    "\n",
    "\n"
   ]
  },
  {
   "cell_type": "code",
   "execution_count": null,
   "metadata": {},
   "outputs": [],
   "source": [
    "from spotipy.oauth2 import SpotifyOAuth\n",
    "\n",
    "scope = 'playlist-modify-public'\n",
    "\n",
    "spotify = spotipy.Spotify(auth_manager=SpotifyOAuth(scope=scope , client_id=client_id, client_secret=client_secret, redirect_uri='http://localhost:8888/'))\n",
    "\n",
    "user_id = spotify.me()['id']\n",
    "user_id"
   ]
  },
  {
   "cell_type": "code",
   "execution_count": null,
   "metadata": {},
   "outputs": [],
   "source": [
    "playlist_url = 'https://open.spotify.com/playlist/7p1D9vXCHZrltctiJfV96B?si=2eaae89c52ac4de7'\n",
    "playlist = spotify.playlist(playlist_url)"
   ]
  },
  {
   "cell_type": "code",
   "execution_count": null,
   "metadata": {},
   "outputs": [],
   "source": [
    "tracks_query = playlist['tracks']['href']\n",
    "songs = spotify.user_playlist_tracks(user_id, playlist_id=playlist_url, fields=None, limit=100, offset=0, market=None)\n",
    "playlist_name, playlist_description = playlist['name'], playlist['description']\n",
    "original_songs = [f\"{song['track']['name']} by {', '.join([artist['name'] for artist in song['track']['artists']])}\" for song in songs['items']]\n",
    "original_songs_ids = [song['track']['id'] for song in songs['items']]"
   ]
  },
  {
   "cell_type": "code",
   "execution_count": null,
   "metadata": {},
   "outputs": [],
   "source": [
    "# write a chatgpt prompt\n",
    "print (f\"Playlist name: {playlist_name}\")\n",
    "print (f\"Playlist description: {playlist_description}\")\n",
    "print (\"Songs:\")\n",
    "print (*original_songs, sep='\\n')\n",
    "print (\"\\n\")\n",
    "print (\"Suggest songs to add to this playlist:\")"
   ]
  },
  {
   "cell_type": "code",
   "execution_count": null,
   "metadata": {},
   "outputs": [],
   "source": [
    "# parse chatgpt output\n",
    "output = \"\"\"\n",
    "Here are some song suggestions to add to the playlist \"🧊\":\n",
    "\n",
    "    Snow by Red Velvet\n",
    "    Chilly by JBJ95\n",
    "    Winter Song by Sara Bareilles & Ingrid Michaelson\n",
    "    Let It Snow by Frank Sinatra\n",
    "    Winter Wonderland by Ella Fitzgerald\n",
    "    Snow Angel by Taylor Swift\n",
    "    Snowflakes by Bazzi\n",
    "    Winter by Marcus & Martinus\n",
    "    Cold by James Blunt\n",
    "    All I Want by Kodaline\n",
    "    Everything About You by Ugly Kid Joe\n",
    "    Ice Cream by BLACKPINK, Selena Gomez\n",
    "    Frozen by Madonna\n",
    "    Winter Wind by Ed Sheeran\n",
    "\n",
    "These songs have themes of winter, cold, and snow and would fit well with the playlist's description.\n",
    "\"\"\"\n",
    "\n",
    "# extract song names and artists into a dictionary\n",
    "songs = {}\n",
    "for line in output.splitlines():\n",
    "    if line.startswith('    '):\n",
    "        song, artist = line[4:].split(' by ')\n",
    "        songs[song] = artist\n",
    "        \n",
    "# print the songs\n",
    "print (*[f\"{song} by {artist}\" for song, artist in songs.items()], sep='\\n')\n",
    "\n"
   ]
  },
  {
   "cell_type": "code",
   "execution_count": null,
   "metadata": {},
   "outputs": [],
   "source": [
    "for song, artist in songs.items():\n",
    "    print(song, artist)"
   ]
  },
  {
   "cell_type": "code",
   "execution_count": null,
   "metadata": {},
   "outputs": [],
   "source": [
    "# get the spotify ids for the songs\n",
    "ids = []\n",
    "\n",
    "for song, artist in songs.items():\n",
    "    result = spotify.search(q=f\"track:{song} artist:{artist}\", type='track')\n",
    "    if result['tracks']['items']:\n",
    "        ids.append(result['tracks']['items'][0]['id'])\n",
    "        \n",
    "print (ids)"
   ]
  },
  {
   "cell_type": "code",
   "execution_count": null,
   "metadata": {},
   "outputs": [],
   "source": [
    "output_playlist_name = f\"{playlist_name} (suggested by ChatGPT)\"\n",
    "# spotify.user_playlists(user_id, limit=50, offset=0)\n",
    "user_playlists =  spotify.current_user_playlists(limit=50, offset=0)\n",
    "# check if playlist already exists in user's library\n",
    "if any([playlist['name'] == output_playlist_name for playlist in user_playlists['items']]):\n",
    "    print (\"Playlist already exists\")\n",
    "    output_playlist = [playlist for playlist in user_playlists['items'] if playlist['name'] == output_playlist_name][0]\n",
    "    # add songs to playlist if they don't already exist\n",
    "else:\n",
    "    output_playlist = spotify.user_playlist_create(user_id, output_playlist_name, public=True, description=f\"{playlist_description} powered by ChatGPT\")\n",
    "\n",
    "current_song_ids = [song['track']['id'] for song in spotify.user_playlist_tracks(user_id, playlist_id=output_playlist['id'], fields=None, limit=100, offset=0, market=None)['items']]\n",
    "print(current_song_ids)\n",
    "\n",
    "# add orginal songs to playlist\n",
    "songs_to_add = []\n",
    "# add suggested songs to playlist if they don't already exist in output playlist\n",
    "songs_to_add += [song_id for song_id in ids if song_id not in current_song_ids]\n",
    "# add original songs to playlist if they don't already exist in output playlist\n",
    "songs_to_add += [song_id for song_id in original_songs_ids if song_id not in current_song_ids]\n",
    "\n",
    "\n",
    "\n",
    "\n",
    "\n",
    "print (songs_to_add)\n",
    "# spotify.user_playlist_add_tracks(user_id, playlist_id=output_playlist['id'], tracks=ids)\n"
   ]
  },
  {
   "cell_type": "code",
   "execution_count": null,
   "metadata": {},
   "outputs": [],
   "source": [
    "\n",
    "if len(songs_to_add) > 0:\n",
    "    spotify.user_playlist_add_tracks(user_id, playlist_id=output_playlist['id'], tracks=songs_to_add)"
   ]
  },
  {
   "cell_type": "code",
   "execution_count": null,
   "metadata": {},
   "outputs": [],
   "source": []
  }
 ],
 "metadata": {
  "kernelspec": {
   "display_name": "Python 3",
   "language": "python",
   "name": "python3"
  },
  "language_info": {
   "codemirror_mode": {
    "name": "ipython",
    "version": 3
   },
   "file_extension": ".py",
   "mimetype": "text/x-python",
   "name": "python",
   "nbconvert_exporter": "python",
   "pygments_lexer": "ipython3",
   "version": "3.10.9"
  },
  "orig_nbformat": 4,
  "vscode": {
   "interpreter": {
    "hash": "9ce3f09096f1bc883e4efbc08284950c39e7f8d669e4738fedb813ecc6ba7bd4"
   }
  }
 },
 "nbformat": 4,
 "nbformat_minor": 2
}
