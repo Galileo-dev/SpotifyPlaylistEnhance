{
 "cells": [
  {
   "cell_type": "code",
   "execution_count": null,
   "metadata": {},
   "outputs": [],
   "source": [
    "%pip install spotipy"
   ]
  },
  {
   "cell_type": "code",
   "execution_count": 3,
   "metadata": {},
   "outputs": [],
   "source": [
    "import spotipy\n",
    "\n",
    "\n"
   ]
  },
  {
   "cell_type": "code",
   "execution_count": 4,
   "metadata": {},
   "outputs": [
    {
     "data": {
      "text/plain": [
       "'5uml6ohe28g5kghuxvkcjd3cy'"
      ]
     },
     "execution_count": 4,
     "metadata": {},
     "output_type": "execute_result"
    }
   ],
   "source": [
    "\n",
    "from spotipy.oauth2 import SpotifyOAuth\n",
    "\n",
    "scope = 'playlist-modify-public'\n",
    "\n",
    "spotify = spotipy.Spotify(auth_manager=SpotifyOAuth(scope=scope , client_id=client_id, client_secret=client_secret, redirect_uri='http://localhost:8888/'))\n",
    "\n",
    "user_id = spotify.me()['id']\n",
    "user_id"
   ]
  },
  {
   "cell_type": "code",
   "execution_count": 5,
   "metadata": {},
   "outputs": [],
   "source": [
    "playlist_url = 'https://open.spotify.com/playlist/2hYW67pOzsuG5y97Mnd8Mu?si=d72fb087e9e54bac'\n",
    "playlist = spotify.playlist(playlist_url)"
   ]
  },
  {
   "cell_type": "code",
   "execution_count": 6,
   "metadata": {},
   "outputs": [],
   "source": [
    "tracks_query = playlist['tracks']['href']\n",
    "songs = spotify.user_playlist_tracks(user_id, playlist_id=playlist_url, fields=None, limit=100, offset=0, market=None)\n",
    "playlist_name, playlist_description = playlist['name'], playlist['description']\n",
    "original_songs = [f\"{song['track']['name']} by {', '.join([artist['name'] for artist in song['track']['artists']])}\" for song in songs['items']]\n",
    "original_songs_ids = [song['track']['id'] for song in songs['items']]"
   ]
  },
  {
   "cell_type": "code",
   "execution_count": 7,
   "metadata": {},
   "outputs": [
    {
     "name": "stdout",
     "output_type": "stream",
     "text": [
      "Playlist name: Hits different\n",
      "Playlist description: some just hit different - as of 9-Feb-2023\n",
      "Songs:\n",
      "Why Didn't You Stop Me? by Mitski\n",
      "Washing Machine Heart by Mitski\n",
      "Heat Waves by Glass Animals\n",
      "Nothing From Nothing by Billy Preston\n",
      "Little Words by The Happy Fits\n",
      "Buddy, Ryo by Kensuke Ushio\n",
      "I Am the Antichrist to You by Nu Deco Ensemble, Kishi Bashi\n",
      "Parking Garage by Tommy Bravos\n",
      "affection by BETWEEN FRIENDS\n",
      "Sometimes by Nick Lutsko\n",
      "What's Wrong by half•alive\n",
      "I Am Steve by Hey Steve\n",
      "High by Lokki\n",
      "They Stay Down Deep by Giselle\n",
      "I Really Want to Stay at Your House by Rosa Walton, Hallie Coggins\n",
      "Terrible Times by Bantams\n",
      "Everything Goes Away by The Vernes\n",
      "Just Can’t Get Enough by Black Eyed Peas\n",
      "The Night We Met by Lord Huron\n",
      "Looking for Love by Riaan Vosloo, Benedic Lamdin\n",
      "Anime Dream Queen by bedfashion\n",
      "House of Memories by Panic! At The Disco\n",
      "ロマンス宣言 by Kaneko Ayano\n",
      "The Fall by half•alive\n",
      "The Woods by Sarah and the Sundays\n",
      "All My Favorite Songs by Weezer\n",
      "Enemy (with JID) - from the series Arcane League of Legends by Imagine Dragons, JID, Arcane, League of Legends\n",
      "nightmares by easy life\n",
      "Solitude by Sorry, Peach\n",
      "Dead Eyes by Promoting Sounds, Powfu, Ouse\n",
      "It's Alright by Mother Mother\n",
      "Diane by Roiael, Beowülf\n",
      "The Difference by Flume, Toro y Moi\n",
      "Mr. Clean by Yung Gravy\n",
      "Buttercup by Jack Stauber\n",
      "Lemon Boy by Cavetown\n",
      "This Is Home by Cavetown\n",
      "Lullaby by R3HAB, Mike Williams\n",
      "summer depression by girl in red\n",
      "Dancin - Krono Remix by Aaron Smith, Luvli, Krono\n",
      "House of the Rising Sun by The Animals\n",
      "Happiest Year by Jaymes Young\n",
      "Monster by dodie\n",
      "Let It Mend by New New Girlfriend\n",
      "Soldier, Poet, King by The Oh Hellos\n",
      "She by dodie\n",
      "Missing What's You by Elijah N, Frigga\n",
      "Dream On by Aerosmith\n",
      "I'm Not Ok by Weathers\n",
      "Dream Sweet in Sea Major by Miracle Musical\n",
      "I Hope You Die in a Fire by Grand Commander\n",
      "Mate Um Bonito Hoje Mesmo! by Marcioz\n",
      "A Sadness Runs Through Him by The Hoosiers\n",
      "Curses by The Crane Wives\n",
      "Baggage by Rare Americans\n",
      "Marceline The Vampire by Steppes\n",
      "Mostly by Vian Izak, Juniper Vale\n",
      "Red Wine by Follies & Vices\n",
      "Everybody's Circulation by leotardz leo\n",
      "\n",
      "\n",
      "Suggest songs to add to this playlist:\n"
     ]
    }
   ],
   "source": [
    "# write a chatgpt prompt\n",
    "print (f\"Playlist name: {playlist_name}\")\n",
    "print (f\"Playlist description: {playlist_description}\")\n",
    "print (\"Songs:\")\n",
    "print (*original_songs, sep='\\n')\n",
    "print (\"\\n\")\n",
    "print (\"Suggest songs to add to this playlist (only suggest songs that exist):\")"
   ]
  },
  {
   "cell_type": "code",
   "execution_count": 8,
   "metadata": {},
   "outputs": [
    {
     "name": "stdout",
     "output_type": "stream",
     "text": [
      "Floating Weeds by Mac Demarco\n",
      "My Boys by TWENTY ØNE PILØTS\n",
      "Past Life by Trevor Daniel, Selena Gomez\n",
      "Sober by Olivia Rodrigo\n",
      "In Your Eyes by The Weeknd\n",
      "Black Hole by Radio Company\n",
      "Good 4 U by Olivia Rodrigo\n",
      "The One That You Love by LP\n",
      "What A Man Gotta Do by Jonas Brothers\n",
      "Mind Games by Adeline\n",
      "Fake Fine by The Kid LAROI\n",
      "Orange by EOB\n",
      "Jump by Van Halen\n",
      "Lilacs by Phoebe Bridgers\n",
      "Here Comes The Sun by The Beatles\n",
      "The Bitter Truth by Evanescence\n",
      "Sleeping In The Storm by Liza Anne\n",
      "The Man by Taylor Swift\n",
      "Wreckless Love by Alec Benjamin\n",
      "Stargazing by Kygo, Justin Jesso\n"
     ]
    }
   ],
   "source": [
    "# parse chatgpt output\n",
    "output = \"\"\"\n",
    "Sure! Here are some suggestions for songs to add to the \"Hits different\" playlist:\n",
    "\n",
    "    Floating Weeds by Mac Demarco\n",
    "    My Boys by TWENTY ØNE PILØTS\n",
    "    Past Life by Trevor Daniel, Selena Gomez\n",
    "    Sober by Olivia Rodrigo\n",
    "    In Your Eyes by The Weeknd\n",
    "    Black Hole by Radio Company\n",
    "    Good 4 U by Olivia Rodrigo\n",
    "    The One That You Love by LP\n",
    "    What A Man Gotta Do by Jonas Brothers\n",
    "    Mind Games by Adeline\n",
    "    Fake Fine by The Kid LAROI\n",
    "    Orange by EOB\n",
    "    Jump by Van Halen\n",
    "    Lilacs by Phoebe Bridgers\n",
    "    Here Comes The Sun by The Beatles\n",
    "    The Bitter Truth by Evanescence\n",
    "    Sleeping In The Storm by Liza Anne\n",
    "    The Man by Taylor Swift\n",
    "    Wreckless Love by Alec Benjamin\n",
    "    Stargazing by Kygo, Justin Jesso\n",
    "\n",
    "Hope these suggestions help you add some great songs to your playlist!\n",
    "\"\"\"\n",
    "\n",
    "# extract song names and artists into a dictionary\n",
    "songs = {}\n",
    "for line in output.splitlines():\n",
    "    if line.startswith('    '):\n",
    "        song, artist = line[4:].split(' by ')\n",
    "        songs[song] = artist\n",
    "        \n",
    "# print the songs\n",
    "print (*[f\"{song} by {artist}\" for song, artist in songs.items()], sep='\\n')\n",
    "\n"
   ]
  },
  {
   "cell_type": "code",
   "execution_count": 9,
   "metadata": {},
   "outputs": [
    {
     "name": "stdout",
     "output_type": "stream",
     "text": [
      "Floating Weeds Mac Demarco\n",
      "My Boys TWENTY ØNE PILØTS\n",
      "Past Life Trevor Daniel, Selena Gomez\n",
      "Sober Olivia Rodrigo\n",
      "In Your Eyes The Weeknd\n",
      "Black Hole Radio Company\n",
      "Good 4 U Olivia Rodrigo\n",
      "The One That You Love LP\n",
      "What A Man Gotta Do Jonas Brothers\n",
      "Mind Games Adeline\n",
      "Fake Fine The Kid LAROI\n",
      "Orange EOB\n",
      "Jump Van Halen\n",
      "Lilacs Phoebe Bridgers\n",
      "Here Comes The Sun The Beatles\n",
      "The Bitter Truth Evanescence\n",
      "Sleeping In The Storm Liza Anne\n",
      "The Man Taylor Swift\n",
      "Wreckless Love Alec Benjamin\n",
      "Stargazing Kygo, Justin Jesso\n"
     ]
    }
   ],
   "source": [
    "for song, artist in songs.items():\n",
    "    print(song, artist)"
   ]
  },
  {
   "cell_type": "code",
   "execution_count": 10,
   "metadata": {},
   "outputs": [
    {
     "name": "stdout",
     "output_type": "stream",
     "text": [
      "['7MN8RYSofZsFROBlEOAzXq', '7szuecWAPwGoV1e5vGu8tl', '4ZtFanR9U6ndgddUvNcjcG', '6iutkSs88iLzzevj9bdvbz', '4wNIkl5XGiAACjFBlDWuSd', '6Fba9RZtC6vTY814JToDtP', '6dGnYIeXmHdcikdzNNDMm2', '4W01mWRcPENGoy8SIxaSbg', '3RauEVgRgj1IuWdJ9fDs70', '0Zbbxnx4SGGHoIow4PpISP']\n"
     ]
    }
   ],
   "source": [
    "# get the spotify ids for the songs\n",
    "ids = []\n",
    "\n",
    "for song, artist in songs.items():\n",
    "    result = spotify.search(q=f\"track:{song} artist:{artist}\", type='track')\n",
    "    if result['tracks']['items']:\n",
    "        ids.append(result['tracks']['items'][0]['id'])\n",
    "        \n",
    "print (ids)"
   ]
  },
  {
   "cell_type": "code",
   "execution_count": 11,
   "metadata": {},
   "outputs": [
    {
     "name": "stdout",
     "output_type": "stream",
     "text": [
      "[]\n",
      "['7MN8RYSofZsFROBlEOAzXq', '7szuecWAPwGoV1e5vGu8tl', '4ZtFanR9U6ndgddUvNcjcG', '6iutkSs88iLzzevj9bdvbz', '4wNIkl5XGiAACjFBlDWuSd', '6Fba9RZtC6vTY814JToDtP', '6dGnYIeXmHdcikdzNNDMm2', '4W01mWRcPENGoy8SIxaSbg', '3RauEVgRgj1IuWdJ9fDs70', '0Zbbxnx4SGGHoIow4PpISP', '2nifujUVU1XyhTSHI2kQ8g', '3jjsRKEsF42ccXf8kWR3nu', '6CDzDgIUqeDY5g8ujExx2f', '72PoJMDfdaw9gGECgA9kTZ', '04hsupNh2hvlTgXSMkyc4T', '1Z62ioKpMBkjzzTA7SeAAm', '4uy1qAf0joHhekSziXXxvm', '09T2QbxX6BBB8SeuXQCPgV', '4LyIHEDbAWDeKV0JbVZae9', '6oLgJATx3ECZ7Pcghmz38L', '1LUFqhv7F1Jyy95qeoVnnq', '6YYljGh0nSVRQD9Tu5lb0B', '1Tw34hE2MgUYvG4iQwmWE4', '4JNj5vWvoJohMPyfrfo4Rc', '7mykoq6R3BArsSpNDjFQTm', '7y9aZpf5W9RF4novHwCha4', '4oChPWSb0E9mYvdVUl08sd', '3JA9Jsuxr4xgHXEawAdCp4', '3hRV0jL3vUpRrcy398teAU', '4HvLFRFQY5o7QDLDbmVeem', '1Uit6wCgxjlLs5dFoTkerh', '2DgdHcjWmO3qd50RzuBLgZ', '7ph7HRUsxYcKLRFTaYCQYQ', '2VgQLPaAPaJRIXeL0FIW2q', '22vtUov7GUvA0CcLorrmfQ', '6zVhXpiYbJhLJWmLGV9k1r', '1r9xUipOqoNwggBpENDsvJ', '6BxhzevDe4Mzrabj9Pa1eZ', '5xTWndes85CyJyxhOSGEOu', '7BdlyzVvOqmwPH9dYtZfsx', '1NCZMAnGrzUmpBzkBlJjNw', '4WrA82Rv0xBEKcSm4g2YJV', '4nlvKIIetOWGIMyhjQXgOZ', '5GxnROd93Y7NGt2ci0TwBw', '2mlGPkAx4kwF8Df0GlScsC', '0ZTjo2BjVAicpu6LRusfeg', '2TI2fw9FWPeah6N4k1b4NU', '0DhkTGjEaIHaSxTfC14BFm', '3SEZEyvEALlomED5xFeqOs', '4IlqQhaxrGPxmg35YcXXuS', '4mn2kNTqiGLwaUR8JdhJ1l', '5kcvBnt6DPX3AMEsCx1qDh', '2MKIadkPrRqaivpyn6cnI0', '33DMJHeHZmzV9cOxgXM1Hc', '3xtiXNDbSKxy20I7D6vFUg', '45h4w81P5iJJTSeR0jJUQ8', '3Hh9kkrFyZHnXCSnz2Y6Ao', '6Tr2vHy7gcOT5h1i5b8NGd', '17weS3aO2oaGYJ9Q9yM56X', '3RznzRnsl8mzP63l4AF2M7', '66m3fGaQrDichM7Sokktfy', '07AnEMlG1AEbloKYzgDO0k', '6sNqMaOltCWGmPjQXXFjpR', '7wjmdC4OL3l1nh9zQwCpv8', '3rU5t9hhc6oNrbRHxl1HSR', '2p975L9RyQFC95S1cJimnk', '2yWhQ9D4tbjpEcpJZCGkC4', '4XciWfOr4qKiQ7WOsJWNK0', '4Dzym8AdCRDfIqPcIhDYvH']\n"
     ]
    }
   ],
   "source": [
    "output_playlist_name = f\"{playlist_name} (suggested by ChatGPT)\"\n",
    "# spotify.user_playlists(user_id, limit=50, offset=0)\n",
    "user_playlists =  spotify.current_user_playlists(limit=50, offset=0)\n",
    "# check if playlist already exists in user's library\n",
    "if any([playlist['name'] == output_playlist_name for playlist in user_playlists['items']]):\n",
    "    print (\"Playlist already exists\")\n",
    "    output_playlist = [playlist for playlist in user_playlists['items'] if playlist['name'] == output_playlist_name][0]\n",
    "    # add songs to playlist if they don't already exist\n",
    "else:\n",
    "    output_playlist = spotify.user_playlist_create(user_id, output_playlist_name, public=True, description=f\"{playlist_description} powered by ChatGPT\")\n",
    "\n",
    "current_song_ids = [song['track']['id'] for song in spotify.user_playlist_tracks(user_id, playlist_id=output_playlist['id'], fields=None, limit=100, offset=0, market=None)['items']]\n",
    "print(current_song_ids)\n",
    "\n",
    "# add orginal songs to playlist\n",
    "songs_to_add = []\n",
    "# add suggested songs to playlist if they don't already exist in output playlist\n",
    "songs_to_add += [song_id for song_id in ids if song_id not in current_song_ids]\n",
    "# add original songs to playlist if they don't already exist in output playlist\n",
    "songs_to_add += [song_id for song_id in original_songs_ids if song_id not in current_song_ids]\n",
    "\n",
    "\n",
    "\n",
    "\n",
    "\n",
    "print (songs_to_add)\n",
    "# spotify.user_playlist_add_tracks(user_id, playlist_id=output_playlist['id'], tracks=ids)\n"
   ]
  },
  {
   "cell_type": "code",
   "execution_count": 12,
   "metadata": {},
   "outputs": [],
   "source": [
    "\n",
    "if len(songs_to_add) > 0:\n",
    "    spotify.user_playlist_add_tracks(user_id, playlist_id=output_playlist['id'], tracks=songs_to_add)"
   ]
  },
  {
   "cell_type": "code",
   "execution_count": null,
   "metadata": {},
   "outputs": [],
   "source": []
  }
 ],
 "metadata": {
  "kernelspec": {
   "display_name": "Python 3",
   "language": "python",
   "name": "python3"
  },
  "language_info": {
   "codemirror_mode": {
    "name": "ipython",
    "version": 3
   },
   "file_extension": ".py",
   "mimetype": "text/x-python",
   "name": "python",
   "nbconvert_exporter": "python",
   "pygments_lexer": "ipython3",
   "version": "3.10.9"
  },
  "orig_nbformat": 4,
  "vscode": {
   "interpreter": {
    "hash": "9ce3f09096f1bc883e4efbc08284950c39e7f8d669e4738fedb813ecc6ba7bd4"
   }
  }
 },
 "nbformat": 4,
 "nbformat_minor": 2
}
